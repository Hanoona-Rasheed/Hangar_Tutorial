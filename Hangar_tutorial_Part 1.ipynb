{
 "cells": [
  {
   "cell_type": "code",
   "execution_count": 1,
   "metadata": {},
   "outputs": [],
   "source": [
    "from hangar import Repository"
   ]
  },
  {
   "cell_type": "code",
   "execution_count": 2,
   "metadata": {},
   "outputs": [
    {
     "name": "stderr",
     "output_type": "stream",
     "text": [
      "C:\\Users\\bintr\\Anaconda3\\envs\\newconda\\lib\\site-packages\\hangar-0.5.0.dev0-py3.7.egg\\hangar\\context.py:93: UserWarning: No repository exists at D:\\Blog\\.hangar, please use `repo.init()` method\n",
      "  warnings.warn(msg, UserWarning)\n"
     ]
    }
   ],
   "source": [
    "repo = Repository(path = 'D:\\Blog')"
   ]
  },
  {
   "cell_type": "code",
   "execution_count": 3,
   "metadata": {},
   "outputs": [
    {
     "name": "stdout",
     "output_type": "stream",
     "text": [
      "Hangar Repo initialized at: D:\\Blog\\.hangar\n"
     ]
    },
    {
     "data": {
      "text/plain": [
       "'D:\\\\Blog\\\\.hangar'"
      ]
     },
     "execution_count": 3,
     "metadata": {},
     "output_type": "execute_result"
    }
   ],
   "source": [
    "repo.init(user_name='Name of User', user_email='some_email.com', remove_old=True)"
   ]
  },
  {
   "cell_type": "code",
   "execution_count": 4,
   "metadata": {},
   "outputs": [
    {
     "data": {
      "text/plain": [
       "Hangar WriterCheckout                \n",
       "    Writer       : True                \n",
       "    Base Branch  : master                \n",
       "    Num Arraysets : 0                \n",
       "    Num Metadata : 0\n"
      ]
     },
     "execution_count": 4,
     "metadata": {},
     "output_type": "execute_result"
    }
   ],
   "source": [
    "co = repo.checkout(write=True)\n",
    "co"
   ]
  },
  {
   "cell_type": "code",
   "execution_count": 5,
   "metadata": {},
   "outputs": [
    {
     "data": {
      "text/plain": [
       "Hangar Metadata                \n",
       "    Writeable: True                \n",
       "    Number of Keys: 0\n"
      ]
     },
     "execution_count": 5,
     "metadata": {},
     "output_type": "execute_result"
    }
   ],
   "source": [
    "co.arraysets\n",
    "co.metadata"
   ]
  },
  {
   "cell_type": "code",
   "execution_count": 6,
   "metadata": {},
   "outputs": [],
   "source": [
    "import gzip\n",
    "import pickle\n",
    "import numpy as np\n",
    "file_ = gzip.open('D:\\Downloads\\mnist.pkl.gz','rb')\n",
    "train_DS, test_DS, validation_DS = pickle.load(file_, encoding = 'bytes')\n",
    "# Extracting training images and labels into numpy arrays\n",
    "image_arr = train_DS[0] # image_arr.shape:(50000, 784)\n",
    "label_arr = train_DS[1] # label_arr.shape:(50000,)"
   ]
  },
  {
   "cell_type": "code",
   "execution_count": 7,
   "metadata": {},
   "outputs": [],
   "source": [
    "# sample value in image_arr--> image_arr[0]-->(shape: (784,)\n",
    "arr_set_img = co.arraysets.init_arrayset(name='train_image', prototype=np.array(image_arr[0]))\n",
    "# sample value in label_arr--> label_arr[0]\n",
    "arr_set_label = co.arraysets.init_arrayset(name='train_label', prototype=np.array(label_arr[0]))"
   ]
  },
  {
   "cell_type": "code",
   "execution_count": 8,
   "metadata": {},
   "outputs": [
    {
     "data": {
      "text/plain": [
       "Hangar Arraysets                \n",
       "    Writeable: True                \n",
       "    Arrayset Names / Partial Remote References:                \n",
       "      - train_image / False\n",
       "      - train_label / False"
      ]
     },
     "execution_count": 8,
     "metadata": {},
     "output_type": "execute_result"
    }
   ],
   "source": [
    "co.arraysets"
   ]
  },
  {
   "cell_type": "code",
   "execution_count": 9,
   "metadata": {},
   "outputs": [
    {
     "data": {
      "text/plain": [
       "Hangar ArraysetDataWriter                 \n",
       "    Arrayset Name             : train_image                \n",
       "    Schema Hash              : 1=51076e42a840                \n",
       "    Variable Shape           : False                \n",
       "    (max) Shape              : (784,)                \n",
       "    Datatype                 : <class 'numpy.float32'>                \n",
       "    Named Samples            : True                \n",
       "    Access Mode              : a                \n",
       "    Number of Samples        : 0                \n",
       "    Partial Remote Data Refs : False\n"
      ]
     },
     "execution_count": 9,
     "metadata": {},
     "output_type": "execute_result"
    }
   ],
   "source": [
    "arr_set_img"
   ]
  },
  {
   "cell_type": "code",
   "execution_count": 10,
   "metadata": {},
   "outputs": [
    {
     "data": {
      "text/plain": [
       "Hangar ArraysetDataWriter                 \n",
       "    Arrayset Name             : train_label                \n",
       "    Schema Hash              : 1=2a5b812f0f20                \n",
       "    Variable Shape           : False                \n",
       "    (max) Shape              : ()                \n",
       "    Datatype                 : <class 'numpy.int64'>                \n",
       "    Named Samples            : True                \n",
       "    Access Mode              : a                \n",
       "    Number of Samples        : 0                \n",
       "    Partial Remote Data Refs : False\n"
      ]
     },
     "execution_count": 10,
     "metadata": {},
     "output_type": "execute_result"
    }
   ],
   "source": [
    "arr_set_label"
   ]
  },
  {
   "cell_type": "code",
   "execution_count": 11,
   "metadata": {},
   "outputs": [],
   "source": [
    "with arr_set_img, arr_set_label:\n",
    "    for index, image in enumerate(image_arr):\n",
    "        arr_set_img.add(data=image, name=index)\n",
    "        arr_set_label.add(data=np.array(label_arr[index]), name=str(index))"
   ]
  },
  {
   "cell_type": "code",
   "execution_count": 14,
   "metadata": {},
   "outputs": [
    {
     "data": {
      "text/plain": [
       "Hangar WriterCheckout                \n",
       "    Writer       : True                \n",
       "    Base Branch  : master                \n",
       "    Num Arraysets : 2                \n",
       "    Num Metadata : 0\n"
      ]
     },
     "execution_count": 14,
     "metadata": {},
     "output_type": "execute_result"
    }
   ],
   "source": [
    "co"
   ]
  },
  {
   "cell_type": "code",
   "execution_count": 13,
   "metadata": {},
   "outputs": [
    {
     "data": {
      "text/plain": [
       "Hangar ArraysetDataWriter                 \n",
       "    Arrayset Name             : train_image                \n",
       "    Schema Hash              : 1=51076e42a840                \n",
       "    Variable Shape           : False                \n",
       "    (max) Shape              : (784,)                \n",
       "    Datatype                 : <class 'numpy.float32'>                \n",
       "    Named Samples            : True                \n",
       "    Access Mode              : a                \n",
       "    Number of Samples        : 50000                \n",
       "    Partial Remote Data Refs : False\n"
      ]
     },
     "execution_count": 13,
     "metadata": {},
     "output_type": "execute_result"
    }
   ],
   "source": [
    "arr_set_img"
   ]
  },
  {
   "cell_type": "code",
   "execution_count": null,
   "metadata": {},
   "outputs": [],
   "source": [
    "co.close()"
   ]
  },
  {
   "cell_type": "code",
   "execution_count": 17,
   "metadata": {},
   "outputs": [
    {
     "data": {
      "text/plain": [
       "['master']"
      ]
     },
     "execution_count": 17,
     "metadata": {},
     "output_type": "execute_result"
    }
   ],
   "source": [
    "repo.log() \n",
    "repo.list_branches()"
   ]
  },
  {
   "cell_type": "code",
   "execution_count": 18,
   "metadata": {},
   "outputs": [],
   "source": [
    "first_commit_hash = co.commit('first commit')"
   ]
  },
  {
   "cell_type": "code",
   "execution_count": 19,
   "metadata": {},
   "outputs": [
    {
     "name": "stdout",
     "output_type": "stream",
     "text": [
      "* a=654fc9d4cd8cc0e841a535e129be030f26244a87 (\u001b[1;31mmaster\u001b[m) : first commit\n"
     ]
    }
   ],
   "source": [
    "repo.log()"
   ]
  },
  {
   "cell_type": "code",
   "execution_count": 20,
   "metadata": {},
   "outputs": [],
   "source": [
    "co.close()"
   ]
  },
  {
   "cell_type": "code",
   "execution_count": 22,
   "metadata": {},
   "outputs": [],
   "source": [
    "branch_1 = repo.create_branch(name = 'branch_1') \n",
    "#the new branch points to our first commit by default.\n",
    "branch_2 = repo.create_branch(name='branch_2', base_commit=first_commit_hash) \n",
    "#we can also specify the pointer to the first commit manually specifying it."
   ]
  },
  {
   "cell_type": "code",
   "execution_count": 24,
   "metadata": {},
   "outputs": [
    {
     "name": "stdout",
     "output_type": "stream",
     "text": [
      "* a=654fc9d4cd8cc0e841a535e129be030f26244a87 (\u001b[1;31mbranch_1\u001b[m) (\u001b[1;31mbranch_2\u001b[m) (\u001b[1;31mmaster\u001b[m) : first commit\n"
     ]
    }
   ],
   "source": [
    "repo.log()"
   ]
  },
  {
   "cell_type": "code",
   "execution_count": 29,
   "metadata": {},
   "outputs": [
    {
     "data": {
      "text/plain": [
       "['branch_1', 'branch_2', 'master']"
      ]
     },
     "execution_count": 29,
     "metadata": {},
     "output_type": "execute_result"
    }
   ],
   "source": [
    "repo.list_branches()"
   ]
  },
  {
   "cell_type": "code",
   "execution_count": 31,
   "metadata": {},
   "outputs": [
    {
     "data": {
      "text/plain": [
       "Hangar Arraysets                \n",
       "    Writeable: True                \n",
       "    Arrayset Names / Partial Remote References:                \n",
       "      - train_image / False\n",
       "      - train_label / False"
      ]
     },
     "execution_count": 31,
     "metadata": {},
     "output_type": "execute_result"
    }
   ],
   "source": [
    "co = repo.checkout(write=True, branch='branch_2') #remember to mention the branch name when checking out\n",
    "co.arraysets"
   ]
  },
  {
   "cell_type": "code",
   "execution_count": 33,
   "metadata": {},
   "outputs": [
    {
     "data": {
      "text/plain": [
       "Hangar ArraysetDataWriter                 \n",
       "    Arrayset Name             : train_image                \n",
       "    Schema Hash              : 1=51076e42a840                \n",
       "    Variable Shape           : False                \n",
       "    (max) Shape              : (784,)                \n",
       "    Datatype                 : <class 'numpy.float32'>                \n",
       "    Named Samples            : True                \n",
       "    Access Mode              : a                \n",
       "    Number of Samples        : 50000                \n",
       "    Partial Remote Data Refs : False\n"
      ]
     },
     "execution_count": 33,
     "metadata": {},
     "output_type": "execute_result"
    }
   ],
   "source": [
    "co.arraysets['train_image']"
   ]
  },
  {
   "cell_type": "code",
   "execution_count": 35,
   "metadata": {},
   "outputs": [],
   "source": [
    "arr_ = co.arraysets['train_image'][0]"
   ]
  },
  {
   "cell_type": "code",
   "execution_count": 36,
   "metadata": {},
   "outputs": [],
   "source": [
    "arr_ = co.arraysets['train_image'][0]\n",
    "new_arr_ = arr_ + 10 #making a change in the arrayset sample 1\n",
    "co['train_image', '1'] = new_arr_ #adding the changed the arrayset as the new arrayset sample(using a different method of add, you can also use the previous .add() method)\n",
    "co.commit('commit on `branch_2` by adding a new sample')\n",
    "co.close()"
   ]
  },
  {
   "cell_type": "code",
   "execution_count": 38,
   "metadata": {},
   "outputs": [
    {
     "name": "stdout",
     "output_type": "stream",
     "text": [
      "* a=ffdc5c384d1b875ea6d385d60531b269ec91f7d0 (\u001b[1;31mbranch_2\u001b[m) : commit on `branch_2` by adding a new sample\n",
      "* a=654fc9d4cd8cc0e841a535e129be030f26244a87 (\u001b[1;31mbranch_1\u001b[m) (\u001b[1;31mmaster\u001b[m) : first commit\n"
     ]
    }
   ],
   "source": [
    "repo.log()"
   ]
  }
 ],
 "metadata": {
  "kernelspec": {
   "display_name": "Python 3",
   "language": "python",
   "name": "python3"
  },
  "language_info": {
   "codemirror_mode": {
    "name": "ipython",
    "version": 3
   },
   "file_extension": ".py",
   "mimetype": "text/x-python",
   "name": "python",
   "nbconvert_exporter": "python",
   "pygments_lexer": "ipython3",
   "version": "3.7.5"
  }
 },
 "nbformat": 4,
 "nbformat_minor": 2
}
